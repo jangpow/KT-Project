{
 "cells": [
  {
   "cell_type": "markdown",
   "id": "2fd1695a-8439-4a35-84c8-9970e11b779f",
   "metadata": {},
   "source": [
    "# DX트랙 5차 미니프로젝트 \n",
    "## 중증질환 예측 모델링"
   ]
  },
  {
   "cell_type": "markdown",
   "id": "38396e52-004b-48b5-95cb-8a29e36130ef",
   "metadata": {},
   "source": [
    " * Target : 중증질환 (뇌경색, 뇌출혈, 복부손상, 심근경색)\n",
    " * 데이터 분석 결과를 바탕으로 Target에 영향을 주는 Feature 전처리 (함수 정의)\n",
    " * 머신러닝/딥러닝 모델링 후 성능 비교\n",
    " * 최적AI 모델 선정 및 저장\n",
    " * 새로운 출동 이력에 제시된 환자의 증상을 바탕으로 중증 질환 예측 함수 정의"
   ]
  },
  {
   "cell_type": "code",
   "execution_count": 1,
   "id": "42abfc61-068b-4cc5-9131-ba6970a93474",
   "metadata": {},
   "outputs": [
    {
     "name": "stdout",
     "output_type": "stream",
     "text": [
      "keras                         2.11.0\n"
     ]
    }
   ],
   "source": [
    "## windows 도스창 기준입니다.\n",
    "## keras 버전 확인\n",
    "!pip list | find \"keras\" "
   ]
  },
  {
   "cell_type": "code",
   "execution_count": 2,
   "id": "adbcc92c-e6a4-4090-acbf-94550ba0c685",
   "metadata": {},
   "outputs": [
    {
     "name": "stdout",
     "output_type": "stream",
     "text": [
      "Requirement already satisfied: keras==2.11.0 in c:\\users\\user\\appdata\\roaming\\python\\python39\\site-packages (2.11.0)\n"
     ]
    }
   ],
   "source": [
    "# keras 버전 맞추기\n",
    "!pip install keras==2.11.0 --upgrade --user"
   ]
  },
  {
   "cell_type": "code",
   "execution_count": 33,
   "id": "cc62b05e-abbf-4494-b3ca-997afce56e78",
   "metadata": {
    "collapsed": true,
    "jupyter": {
     "outputs_hidden": true
    },
    "tags": []
   },
   "outputs": [
    {
     "name": "stdout",
     "output_type": "stream",
     "text": [
      "Requirement already satisfied: tensorflow in c:\\users\\user\\anaconda3\\lib\\site-packages (2.12.0)\n",
      "Requirement already satisfied: tensorflow-intel==2.12.0 in c:\\users\\user\\anaconda3\\lib\\site-packages (from tensorflow) (2.12.0)\n",
      "Requirement already satisfied: packaging in c:\\users\\user\\appdata\\roaming\\python\\python39\\site-packages (from tensorflow-intel==2.12.0->tensorflow) (22.0)\n",
      "Requirement already satisfied: google-pasta>=0.1.1 in c:\\users\\user\\anaconda3\\lib\\site-packages (from tensorflow-intel==2.12.0->tensorflow) (0.2.0)\n",
      "Requirement already satisfied: six>=1.12.0 in c:\\users\\user\\appdata\\roaming\\python\\python39\\site-packages (from tensorflow-intel==2.12.0->tensorflow) (1.16.0)\n",
      "Requirement already satisfied: typing-extensions>=3.6.6 in c:\\users\\user\\anaconda3\\lib\\site-packages (from tensorflow-intel==2.12.0->tensorflow) (4.3.0)\n",
      "Requirement already satisfied: h5py>=2.9.0 in c:\\users\\user\\anaconda3\\lib\\site-packages (from tensorflow-intel==2.12.0->tensorflow) (3.7.0)\n",
      "Requirement already satisfied: protobuf!=4.21.0,!=4.21.1,!=4.21.2,!=4.21.3,!=4.21.4,!=4.21.5,<5.0.0dev,>=3.20.3 in c:\\users\\user\\anaconda3\\lib\\site-packages (from tensorflow-intel==2.12.0->tensorflow) (3.20.3)\n",
      "Requirement already satisfied: grpcio<2.0,>=1.24.3 in c:\\users\\user\\anaconda3\\lib\\site-packages (from tensorflow-intel==2.12.0->tensorflow) (1.53.0)\n",
      "Requirement already satisfied: flatbuffers>=2.0 in c:\\users\\user\\anaconda3\\lib\\site-packages (from tensorflow-intel==2.12.0->tensorflow) (23.3.3)\n",
      "Requirement already satisfied: gast<=0.4.0,>=0.2.1 in c:\\users\\user\\anaconda3\\lib\\site-packages (from tensorflow-intel==2.12.0->tensorflow) (0.4.0)\n",
      "Requirement already satisfied: tensorboard<2.13,>=2.12 in c:\\users\\user\\anaconda3\\lib\\site-packages (from tensorflow-intel==2.12.0->tensorflow) (2.12.2)\n",
      "Requirement already satisfied: numpy<1.24,>=1.22 in c:\\users\\user\\anaconda3\\lib\\site-packages (from tensorflow-intel==2.12.0->tensorflow) (1.23.5)\n",
      "Requirement already satisfied: keras<2.13,>=2.12.0 in c:\\users\\user\\anaconda3\\lib\\site-packages (from tensorflow-intel==2.12.0->tensorflow) (2.12.0)\n",
      "Requirement already satisfied: tensorflow-estimator<2.13,>=2.12.0 in c:\\users\\user\\anaconda3\\lib\\site-packages (from tensorflow-intel==2.12.0->tensorflow) (2.12.0)\n",
      "Requirement already satisfied: opt-einsum>=2.3.2 in c:\\users\\user\\anaconda3\\lib\\site-packages (from tensorflow-intel==2.12.0->tensorflow) (3.3.0)\n",
      "Requirement already satisfied: absl-py>=1.0.0 in c:\\users\\user\\anaconda3\\lib\\site-packages (from tensorflow-intel==2.12.0->tensorflow) (1.4.0)\n",
      "Requirement already satisfied: astunparse>=1.6.0 in c:\\users\\user\\anaconda3\\lib\\site-packages (from tensorflow-intel==2.12.0->tensorflow) (1.6.3)\n",
      "Requirement already satisfied: setuptools in c:\\users\\user\\anaconda3\\lib\\site-packages (from tensorflow-intel==2.12.0->tensorflow) (63.4.1)\n",
      "Requirement already satisfied: wrapt<1.15,>=1.11.0 in c:\\users\\user\\anaconda3\\lib\\site-packages (from tensorflow-intel==2.12.0->tensorflow) (1.14.1)\n",
      "Requirement already satisfied: jax>=0.3.15 in c:\\users\\user\\anaconda3\\lib\\site-packages (from tensorflow-intel==2.12.0->tensorflow) (0.4.8)\n",
      "Requirement already satisfied: termcolor>=1.1.0 in c:\\users\\user\\anaconda3\\lib\\site-packages (from tensorflow-intel==2.12.0->tensorflow) (2.2.0)\n",
      "Requirement already satisfied: libclang>=13.0.0 in c:\\users\\user\\anaconda3\\lib\\site-packages (from tensorflow-intel==2.12.0->tensorflow) (16.0.0)\n",
      "Requirement already satisfied: tensorflow-io-gcs-filesystem>=0.23.1 in c:\\users\\user\\anaconda3\\lib\\site-packages (from tensorflow-intel==2.12.0->tensorflow) (0.31.0)\n",
      "Requirement already satisfied: wheel<1.0,>=0.23.0 in c:\\users\\user\\anaconda3\\lib\\site-packages (from astunparse>=1.6.0->tensorflow-intel==2.12.0->tensorflow) (0.37.1)\n",
      "Requirement already satisfied: scipy>=1.7 in c:\\users\\user\\anaconda3\\lib\\site-packages (from jax>=0.3.15->tensorflow-intel==2.12.0->tensorflow) (1.9.1)\n",
      "Requirement already satisfied: ml-dtypes>=0.0.3 in c:\\users\\user\\anaconda3\\lib\\site-packages (from jax>=0.3.15->tensorflow-intel==2.12.0->tensorflow) (0.1.0)\n",
      "Requirement already satisfied: markdown>=2.6.8 in c:\\users\\user\\anaconda3\\lib\\site-packages (from tensorboard<2.13,>=2.12->tensorflow-intel==2.12.0->tensorflow) (3.3.4)\n",
      "Requirement already satisfied: tensorboard-plugin-wit>=1.6.0 in c:\\users\\user\\anaconda3\\lib\\site-packages (from tensorboard<2.13,>=2.12->tensorflow-intel==2.12.0->tensorflow) (1.8.1)\n",
      "Requirement already satisfied: google-auth<3,>=1.6.3 in c:\\users\\user\\anaconda3\\lib\\site-packages (from tensorboard<2.13,>=2.12->tensorflow-intel==2.12.0->tensorflow) (2.17.3)\n",
      "Requirement already satisfied: google-auth-oauthlib<1.1,>=0.5 in c:\\users\\user\\anaconda3\\lib\\site-packages (from tensorboard<2.13,>=2.12->tensorflow-intel==2.12.0->tensorflow) (1.0.0)\n",
      "Requirement already satisfied: requests<3,>=2.21.0 in c:\\users\\user\\anaconda3\\lib\\site-packages (from tensorboard<2.13,>=2.12->tensorflow-intel==2.12.0->tensorflow) (2.28.1)\n",
      "Requirement already satisfied: tensorboard-data-server<0.8.0,>=0.7.0 in c:\\users\\user\\anaconda3\\lib\\site-packages (from tensorboard<2.13,>=2.12->tensorflow-intel==2.12.0->tensorflow) (0.7.0)\n",
      "Requirement already satisfied: werkzeug>=1.0.1 in c:\\users\\user\\anaconda3\\lib\\site-packages (from tensorboard<2.13,>=2.12->tensorflow-intel==2.12.0->tensorflow) (2.0.3)\n",
      "Requirement already satisfied: rsa<5,>=3.1.4 in c:\\users\\user\\anaconda3\\lib\\site-packages (from google-auth<3,>=1.6.3->tensorboard<2.13,>=2.12->tensorflow-intel==2.12.0->tensorflow) (4.9)\n",
      "Requirement already satisfied: cachetools<6.0,>=2.0.0 in c:\\users\\user\\anaconda3\\lib\\site-packages (from google-auth<3,>=1.6.3->tensorboard<2.13,>=2.12->tensorflow-intel==2.12.0->tensorflow) (5.3.0)\n",
      "Requirement already satisfied: pyasn1-modules>=0.2.1 in c:\\users\\user\\anaconda3\\lib\\site-packages (from google-auth<3,>=1.6.3->tensorboard<2.13,>=2.12->tensorflow-intel==2.12.0->tensorflow) (0.2.8)\n",
      "Requirement already satisfied: requests-oauthlib>=0.7.0 in c:\\users\\user\\anaconda3\\lib\\site-packages (from google-auth-oauthlib<1.1,>=0.5->tensorboard<2.13,>=2.12->tensorflow-intel==2.12.0->tensorflow) (1.3.1)\n",
      "Requirement already satisfied: urllib3<1.27,>=1.21.1 in c:\\users\\user\\anaconda3\\lib\\site-packages (from requests<3,>=2.21.0->tensorboard<2.13,>=2.12->tensorflow-intel==2.12.0->tensorflow) (1.26.11)\n",
      "Requirement already satisfied: idna<4,>=2.5 in c:\\users\\user\\anaconda3\\lib\\site-packages (from requests<3,>=2.21.0->tensorboard<2.13,>=2.12->tensorflow-intel==2.12.0->tensorflow) (3.3)\n",
      "Requirement already satisfied: certifi>=2017.4.17 in c:\\users\\user\\anaconda3\\lib\\site-packages (from requests<3,>=2.21.0->tensorboard<2.13,>=2.12->tensorflow-intel==2.12.0->tensorflow) (2022.9.14)\n",
      "Requirement already satisfied: charset-normalizer<3,>=2 in c:\\users\\user\\anaconda3\\lib\\site-packages (from requests<3,>=2.21.0->tensorboard<2.13,>=2.12->tensorflow-intel==2.12.0->tensorflow) (2.0.4)\n",
      "Requirement already satisfied: pyasn1<0.5.0,>=0.4.6 in c:\\users\\user\\anaconda3\\lib\\site-packages (from pyasn1-modules>=0.2.1->google-auth<3,>=1.6.3->tensorboard<2.13,>=2.12->tensorflow-intel==2.12.0->tensorflow) (0.4.8)\n",
      "Requirement already satisfied: oauthlib>=3.0.0 in c:\\users\\user\\anaconda3\\lib\\site-packages (from requests-oauthlib>=0.7.0->google-auth-oauthlib<1.1,>=0.5->tensorboard<2.13,>=2.12->tensorflow-intel==2.12.0->tensorflow) (3.2.2)\n"
     ]
    }
   ],
   "source": [
    "!pip install tensorflow"
   ]
  },
  {
   "cell_type": "code",
   "execution_count": 3,
   "id": "5f22b044",
   "metadata": {},
   "outputs": [],
   "source": [
    "import pandas as pd\n",
    "import numpy as np\n",
    "\n",
    "import matplotlib.pyplot as plt\n",
    "import seaborn as sns\n",
    "\n",
    "import scipy.stats as stats\n",
    "from sklearn.preprocessing import MinMaxScaler\n",
    "\n",
    "plt.rcParams['font.family'] = 'Malgun Gothic'"
   ]
  },
  {
   "cell_type": "code",
   "execution_count": 19,
   "id": "11e97a5c-ea39-41af-9519-62247a9c2f3e",
   "metadata": {},
   "outputs": [],
   "source": [
    "# 응급 출동 데이터 불러오기\n",
    "# 파일명 : 119_emergency_dispatch.csv\n",
    "# 중증 질환이 ['심근경색', '복부손상', '뇌경색', '뇌출혈']인 데이터만 추출\n",
    "# 데이터 랜덤으로 섞기\n",
    "\n",
    "data = pd.read_csv('119_emergency_dispatch_1.csv', encoding='cp949')\n",
    "desease = data[data['중증질환'].isin(['심근경색', '복부손상', '뇌경색', '뇌출혈'])]\n",
    "\n",
    "# 데이터 랜덤으로 섞기\n",
    "\n",
    "desease = desease.sample(frac=1).reset_index(drop=True)\n"
   ]
  },
  {
   "cell_type": "code",
   "execution_count": 20,
   "id": "bbbc55cb-ab94-4115-b0ef-06552766aa5d",
   "metadata": {},
   "outputs": [
    {
     "data": {
      "text/html": [
       "<div>\n",
       "<style scoped>\n",
       "    .dataframe tbody tr th:only-of-type {\n",
       "        vertical-align: middle;\n",
       "    }\n",
       "\n",
       "    .dataframe tbody tr th {\n",
       "        vertical-align: top;\n",
       "    }\n",
       "\n",
       "    .dataframe thead th {\n",
       "        text-align: right;\n",
       "    }\n",
       "</style>\n",
       "<table border=\"1\" class=\"dataframe\">\n",
       "  <thead>\n",
       "    <tr style=\"text-align: right;\">\n",
       "      <th></th>\n",
       "      <th>ID</th>\n",
       "      <th>출동일시</th>\n",
       "      <th>이름</th>\n",
       "      <th>성별</th>\n",
       "      <th>나이</th>\n",
       "      <th>체온</th>\n",
       "      <th>수축기 혈압</th>\n",
       "      <th>이완기 혈압</th>\n",
       "      <th>호흡 곤란</th>\n",
       "      <th>간헐성 경련</th>\n",
       "      <th>...</th>\n",
       "      <th>통증</th>\n",
       "      <th>만지면 아프다</th>\n",
       "      <th>무감각</th>\n",
       "      <th>마비</th>\n",
       "      <th>현기증</th>\n",
       "      <th>졸도</th>\n",
       "      <th>말이 어눌해졌다</th>\n",
       "      <th>시력이 흐려짐</th>\n",
       "      <th>중증질환</th>\n",
       "      <th>이송 시간</th>\n",
       "    </tr>\n",
       "  </thead>\n",
       "  <tbody>\n",
       "    <tr>\n",
       "      <th>0</th>\n",
       "      <td>P16152</td>\n",
       "      <td>2023-03-07</td>\n",
       "      <td>유**</td>\n",
       "      <td>여성</td>\n",
       "      <td>74</td>\n",
       "      <td>36.5</td>\n",
       "      <td>95</td>\n",
       "      <td>75</td>\n",
       "      <td>1</td>\n",
       "      <td>0</td>\n",
       "      <td>...</td>\n",
       "      <td>0</td>\n",
       "      <td>1</td>\n",
       "      <td>0</td>\n",
       "      <td>0</td>\n",
       "      <td>0</td>\n",
       "      <td>0</td>\n",
       "      <td>0</td>\n",
       "      <td>0</td>\n",
       "      <td>뇌경색</td>\n",
       "      <td>48</td>\n",
       "    </tr>\n",
       "    <tr>\n",
       "      <th>1</th>\n",
       "      <td>P20047</td>\n",
       "      <td>2023-03-21</td>\n",
       "      <td>태**</td>\n",
       "      <td>남성</td>\n",
       "      <td>54</td>\n",
       "      <td>36.4</td>\n",
       "      <td>107</td>\n",
       "      <td>75</td>\n",
       "      <td>0</td>\n",
       "      <td>0</td>\n",
       "      <td>...</td>\n",
       "      <td>0</td>\n",
       "      <td>0</td>\n",
       "      <td>0</td>\n",
       "      <td>0</td>\n",
       "      <td>0</td>\n",
       "      <td>0</td>\n",
       "      <td>0</td>\n",
       "      <td>0</td>\n",
       "      <td>심근경색</td>\n",
       "      <td>52</td>\n",
       "    </tr>\n",
       "    <tr>\n",
       "      <th>2</th>\n",
       "      <td>P15103</td>\n",
       "      <td>2023-01-09</td>\n",
       "      <td>마**</td>\n",
       "      <td>남성</td>\n",
       "      <td>72</td>\n",
       "      <td>36.9</td>\n",
       "      <td>116</td>\n",
       "      <td>67</td>\n",
       "      <td>1</td>\n",
       "      <td>0</td>\n",
       "      <td>...</td>\n",
       "      <td>0</td>\n",
       "      <td>1</td>\n",
       "      <td>1</td>\n",
       "      <td>0</td>\n",
       "      <td>0</td>\n",
       "      <td>0</td>\n",
       "      <td>0</td>\n",
       "      <td>0</td>\n",
       "      <td>뇌경색</td>\n",
       "      <td>8</td>\n",
       "    </tr>\n",
       "    <tr>\n",
       "      <th>3</th>\n",
       "      <td>P22952</td>\n",
       "      <td>2023-02-18</td>\n",
       "      <td>팽**</td>\n",
       "      <td>남성</td>\n",
       "      <td>23</td>\n",
       "      <td>36.2</td>\n",
       "      <td>129</td>\n",
       "      <td>83</td>\n",
       "      <td>1</td>\n",
       "      <td>0</td>\n",
       "      <td>...</td>\n",
       "      <td>1</td>\n",
       "      <td>0</td>\n",
       "      <td>0</td>\n",
       "      <td>0</td>\n",
       "      <td>0</td>\n",
       "      <td>1</td>\n",
       "      <td>0</td>\n",
       "      <td>0</td>\n",
       "      <td>심근경색</td>\n",
       "      <td>66</td>\n",
       "    </tr>\n",
       "    <tr>\n",
       "      <th>4</th>\n",
       "      <td>P19589</td>\n",
       "      <td>2023-04-01</td>\n",
       "      <td>반**</td>\n",
       "      <td>여성</td>\n",
       "      <td>57</td>\n",
       "      <td>36.2</td>\n",
       "      <td>104</td>\n",
       "      <td>80</td>\n",
       "      <td>0</td>\n",
       "      <td>0</td>\n",
       "      <td>...</td>\n",
       "      <td>0</td>\n",
       "      <td>0</td>\n",
       "      <td>1</td>\n",
       "      <td>0</td>\n",
       "      <td>0</td>\n",
       "      <td>0</td>\n",
       "      <td>0</td>\n",
       "      <td>0</td>\n",
       "      <td>뇌경색</td>\n",
       "      <td>51</td>\n",
       "    </tr>\n",
       "  </tbody>\n",
       "</table>\n",
       "<p>5 rows × 23 columns</p>\n",
       "</div>"
      ],
      "text/plain": [
       "       ID        출동일시   이름  성별  나이    체온  수축기 혈압  이완기 혈압  호흡 곤란  간헐성 경련  ...  \\\n",
       "0  P16152  2023-03-07  유**  여성  74  36.5      95      75      1       0  ...   \n",
       "1  P20047  2023-03-21  태**  남성  54  36.4     107      75      0       0  ...   \n",
       "2  P15103  2023-01-09  마**  남성  72  36.9     116      67      1       0  ...   \n",
       "3  P22952  2023-02-18  팽**  남성  23  36.2     129      83      1       0  ...   \n",
       "4  P19589  2023-04-01  반**  여성  57  36.2     104      80      0       0  ...   \n",
       "\n",
       "   통증  만지면 아프다  무감각  마비  현기증  졸도  말이 어눌해졌다  시력이 흐려짐  중증질환  이송 시간  \n",
       "0   0        1    0   0    0   0         0        0   뇌경색     48  \n",
       "1   0        0    0   0    0   0         0        0  심근경색     52  \n",
       "2   0        1    1   0    0   0         0        0   뇌경색      8  \n",
       "3   1        0    0   0    0   1         0        0  심근경색     66  \n",
       "4   0        0    1   0    0   0         0        0   뇌경색     51  \n",
       "\n",
       "[5 rows x 23 columns]"
      ]
     },
     "execution_count": 20,
     "metadata": {},
     "output_type": "execute_result"
    }
   ],
   "source": [
    "desease.head()\n"
   ]
  },
  {
   "cell_type": "markdown",
   "id": "72128961-d182-45c6-b50a-cd023e5b784f",
   "metadata": {},
   "source": [
    "## 1) 학습용, 평가용 데이터 준비하기"
   ]
  },
  {
   "cell_type": "markdown",
   "id": "156e1144-5b0f-468b-a240-e12db8727f53",
   "metadata": {},
   "source": [
    " * 함수로 전처리 과정을 정의\n",
    "   * Target : 중증질환\n",
    "   * 전처리 대상 : 발열, 고혈압, 저혈압\n",
    "   * Feature : '체온', '수축기 혈압', '이완기 혈압', '호흡 곤란', '간헐성 경련', '설사', '기침', '출혈', '통증', '만지면 아프다', \n",
    "           '무감각', '마비', '현기증', '졸도', '말이 어눌해졌다', '시력이 흐려짐', '발열', '고혈압', '저혈압'\n",
    "   * Feature와 Target을 분리하여 결과값 return\n",
    " "
   ]
  },
  {
   "cell_type": "code",
   "execution_count": 21,
   "id": "0a9c57ad-7d6b-4d45-82ce-e062ff9e8184",
   "metadata": {},
   "outputs": [],
   "source": [
    "def preprocessing(desease):\n",
    "    desease['발열'] = [1 if i >=37 else 0 for i in desease['체온']]\n",
    "    desease['고혈압'] = [1 if i >=140 else 0 for i in desease['수축기 혈압']]\n",
    "    desease['저혈압'] = [1 if i<=90 else 0 for i in desease['수축기 혈압']]\n",
    "    \n",
    "    target='중증질환'\n",
    "    X=desease[['체온', '수축기 혈압', '이완기 혈압', '호흡 곤란', '간헐성 경련', '설사', '기침', '출혈', '통증', '만지면 아프다', '무감각', '마비', '현기증', '졸도', '말이 어눌해졌다', '시력이 흐려짐', '발열', '고혈압', '저혈압']]\n",
    "    Y=desease.loc[:,target]\n",
    "    # xgboost나 딥러닝의 경우 라벨링이 무조건 필요하므로 라벨 전환\n",
    "    Y=Y.map({'뇌출혈':0,'심근경색':1,'복부손상':2,'뇌경색':3})\n",
    "    return X, Y"
   ]
  },
  {
   "cell_type": "code",
   "execution_count": 22,
   "id": "7d8963fe-aa01-4c66-a663-48c0895036c9",
   "metadata": {},
   "outputs": [],
   "source": [
    "# x, y 데이터 나누기\n",
    "# preprocessing 함수 활용하여 전처리까지 완료하고 데이터 분리\n",
    "\n",
    "x, y = preprocessing(desease)"
   ]
  },
  {
   "cell_type": "code",
   "execution_count": 23,
   "id": "4b1908de-cbd8-4fcf-bd40-2ec70c7bd29e",
   "metadata": {},
   "outputs": [
    {
     "data": {
      "text/plain": [
       "array(['뇌경색', '심근경색', '뇌출혈', '복부손상'], dtype=object)"
      ]
     },
     "execution_count": 23,
     "metadata": {},
     "output_type": "execute_result"
    }
   ],
   "source": [
    "desease['중증질환'].unique()"
   ]
  },
  {
   "cell_type": "code",
   "execution_count": 24,
   "id": "4c690f54-b206-43d8-ab19-7228d0150a09",
   "metadata": {},
   "outputs": [],
   "source": [
    "# 데이터 분할 비율: 학습데이터 7 : 검증데이터 3\n",
    "from sklearn.model_selection import train_test_split\n",
    "x_train,x_test,y_train,y_test=train_test_split(x,y,test_size=0.3,random_state=1)\n"
   ]
  },
  {
   "cell_type": "markdown",
   "id": "6703af05-a75f-407b-9aa1-87f73d49dbd1",
   "metadata": {},
   "source": [
    "## 2) 모델링"
   ]
  },
  {
   "cell_type": "markdown",
   "id": "e0a3a6a9-9a9b-47b5-8457-a918c33ce880",
   "metadata": {},
   "source": [
    " * 활용 모델 : DecisionTreeClassifier, RandomForestClassifier, XGBClassifier, DNN\n",
    " * 성능 평가 : accuracy_score"
   ]
  },
  {
   "cell_type": "code",
   "execution_count": 25,
   "id": "479c8b5b-eaff-4ffe-9064-ab6916442edc",
   "metadata": {},
   "outputs": [
    {
     "name": "stdout",
     "output_type": "stream",
     "text": [
      "[[1088   11   29   65]\n",
      " [   8 1210   27    9]\n",
      " [  33    7 1222  147]\n",
      " [  60   13  135 1044]]\n",
      "              precision    recall  f1-score   support\n",
      "\n",
      "           0       0.92      0.91      0.91      1193\n",
      "           1       0.98      0.96      0.97      1254\n",
      "           2       0.86      0.87      0.87      1409\n",
      "           3       0.83      0.83      0.83      1252\n",
      "\n",
      "    accuracy                           0.89      5108\n",
      "   macro avg       0.90      0.89      0.89      5108\n",
      "weighted avg       0.89      0.89      0.89      5108\n",
      "\n"
     ]
    }
   ],
   "source": [
    "## Decision Tree\n",
    "## 1) 불러오기\n",
    "from sklearn.tree import DecisionTreeClassifier\n",
    "from sklearn.metrics import *\n",
    "\n",
    "## 2) 선언하기\n",
    "model_dt=DecisionTreeClassifier()\n",
    "\n",
    "## 3) 학습하기\n",
    "model_dt.fit(x_train,y_train)\n",
    "\n",
    "## 4) 예측하기\n",
    "y_pred=model_dt.predict(x_test)\n",
    "## 5) 평가하기\n",
    "print(confusion_matrix(y_test,y_pred))\n",
    "print(classification_report(y_test,y_pred))"
   ]
  },
  {
   "cell_type": "code",
   "execution_count": 92,
   "id": "7d1975bb-868d-4edb-b002-c77516a36bc5",
   "metadata": {},
   "outputs": [
    {
     "name": "stdout",
     "output_type": "stream",
     "text": [
      "[[1106    5   14   68]\n",
      " [   1 1235   13    5]\n",
      " [   9    6 1302   92]\n",
      " [  27   12  131 1082]]\n",
      "              precision    recall  f1-score   support\n",
      "\n",
      "           0       0.97      0.93      0.95      1193\n",
      "           1       0.98      0.98      0.98      1254\n",
      "           2       0.89      0.92      0.91      1409\n",
      "           3       0.87      0.86      0.87      1252\n",
      "\n",
      "    accuracy                           0.93      5108\n",
      "   macro avg       0.93      0.93      0.93      5108\n",
      "weighted avg       0.93      0.93      0.93      5108\n",
      "\n"
     ]
    }
   ],
   "source": [
    "## RandomForest\n",
    "## 1) 불러오기\n",
    "from sklearn.ensemble import RandomForestClassifier\n",
    "\n",
    "## 2) 선언하기\n",
    "model_rf=RandomForestClassifier(max_depth=20)\n",
    "\n",
    "## 3) 학습하기\n",
    "model_rf.fit(x_train,y_train)\n",
    "\n",
    "## 4) 예측하기\n",
    "y_pred=model_rf.predict(x_test)\n",
    "\n",
    "## 5) 평가하기\n",
    "print(confusion_matrix(y_test,y_pred))\n",
    "print(classification_report(y_test,y_pred))"
   ]
  },
  {
   "cell_type": "code",
   "execution_count": 32,
   "id": "ce030325-6ca6-4a7f-bb56-e01372cf6ca9",
   "metadata": {},
   "outputs": [
    {
     "name": "stdout",
     "output_type": "stream",
     "text": [
      "[[1116    5   10   62]\n",
      " [   2 1233   14    5]\n",
      " [  17   10 1294   88]\n",
      " [  32   13  132 1075]]\n",
      "              precision    recall  f1-score   support\n",
      "\n",
      "           0       0.96      0.94      0.95      1193\n",
      "           1       0.98      0.98      0.98      1254\n",
      "           2       0.89      0.92      0.91      1409\n",
      "           3       0.87      0.86      0.87      1252\n",
      "\n",
      "    accuracy                           0.92      5108\n",
      "   macro avg       0.93      0.92      0.92      5108\n",
      "weighted avg       0.92      0.92      0.92      5108\n",
      "\n"
     ]
    }
   ],
   "source": [
    "## XGBoost\n",
    "## 1) 불러오기\n",
    "from xgboost import XGBClassifier\n",
    "\n",
    "## 2) 선언하기\n",
    "model_xgb=XGBClassifier()\n",
    "\n",
    "## 3) 학습하기\n",
    "model_xgb.fit(x_train,y_train)\n",
    "\n",
    "\n",
    "## 4) 예측하기\n",
    "y_pred=model_xgb.predict(x_test)\n",
    "\n",
    "## 5) 평가하기\n",
    "print(confusion_matrix(y_test,y_pred))\n",
    "print(classification_report(y_test,y_pred))"
   ]
  },
  {
   "cell_type": "markdown",
   "id": "413eedeb-0578-463f-ba8a-837ec184555c",
   "metadata": {},
   "source": [
    "---"
   ]
  },
  {
   "cell_type": "code",
   "execution_count": 74,
   "id": "a4542db6-851e-41e4-a0ff-050ee35b2949",
   "metadata": {},
   "outputs": [],
   "source": [
    "# 딥러닝 이전에 MinMaxScaling 진행\n",
    "x, y = preprocessing(desease)\n",
    "x_train,x_test,y_train,y_test=train_test_split(x,y,test_size=0.3,random_state=1)"
   ]
  },
  {
   "cell_type": "code",
   "execution_count": 75,
   "id": "8d63feaa-82a0-468a-9437-fa5a39622f1a",
   "metadata": {},
   "outputs": [],
   "source": [
    "from sklearn.preprocessing import MinMaxScaler\n",
    "\n",
    "scaler=MinMaxScaler()\n",
    "x_train=scaler.fit_transform(x_train)\n",
    "x_test=scaler.transform(x_test)"
   ]
  },
  {
   "cell_type": "code",
   "execution_count": 76,
   "id": "b318af47-7d32-455b-8aa4-f8eef09f360a",
   "metadata": {},
   "outputs": [
    {
     "data": {
      "text/plain": [
       "(11916, 19)"
      ]
     },
     "execution_count": 76,
     "metadata": {},
     "output_type": "execute_result"
    }
   ],
   "source": [
    "x_train.shape"
   ]
  },
  {
   "cell_type": "code",
   "execution_count": 77,
   "id": "d5d9f020-f736-462a-9060-bb980e4a4190",
   "metadata": {},
   "outputs": [
    {
     "name": "stdout",
     "output_type": "stream",
     "text": [
      "Epoch 1/50\n",
      "298/298 [==============================] - 2s 5ms/step - loss: 0.4265 - val_loss: 0.3780\n",
      "Epoch 2/50\n",
      "298/298 [==============================] - 1s 3ms/step - loss: 0.3453 - val_loss: 0.3689\n",
      "Epoch 3/50\n",
      "298/298 [==============================] - 1s 3ms/step - loss: 0.3424 - val_loss: 0.3752\n",
      "Epoch 4/50\n",
      "298/298 [==============================] - 1s 3ms/step - loss: 0.3394 - val_loss: 0.3711\n",
      "Epoch 5/50\n",
      "298/298 [==============================] - 1s 4ms/step - loss: 0.3393 - val_loss: 0.3773\n",
      "Epoch 6/50\n",
      "298/298 [==============================] - 1s 3ms/step - loss: 0.3413 - val_loss: 0.3832\n",
      "Epoch 7/50\n",
      "298/298 [==============================] - 1s 4ms/step - loss: 0.3382 - val_loss: 0.3788\n",
      "Epoch 8/50\n",
      "298/298 [==============================] - 1s 3ms/step - loss: 0.3410 - val_loss: 0.3786\n",
      "Epoch 9/50\n",
      "298/298 [==============================] - 1s 3ms/step - loss: 0.3385 - val_loss: 0.3720\n",
      "Epoch 10/50\n",
      "298/298 [==============================] - 1s 3ms/step - loss: 0.3410 - val_loss: 0.3719\n"
     ]
    }
   ],
   "source": [
    "## DNN\n",
    "## 1) 불러오기\n",
    "\n",
    "import tensorflow as tf\n",
    "from keras.models import Sequential\n",
    "from keras.layers import Dense\n",
    "from keras.optimizers import Adam\n",
    "from keras.backend import clear_session\n",
    "from keras.callbacks import EarlyStopping\n",
    "\n",
    "# 메모리 정리\n",
    "clear_session()\n",
    "\n",
    "## 2) 선언하기\n",
    "n_features=x_train.shape[1]\n",
    "\n",
    "model=Sequential([Dense(4,input_shape=(n_features,),activation='softmax')])\n",
    "\n",
    "# ## 3) 학습하기\n",
    "callback=EarlyStopping(monitor='loss',patience=3)\n",
    "\n",
    "model.compile(optimizer=Adam(learning_rate=0.05), loss='sparse_categorical_crossentropy')\n",
    "history=model.fit(x_train,y_train, epochs=50, validation_split=0.2, callbacks=[callback]).history              "
   ]
  },
  {
   "cell_type": "code",
   "execution_count": 78,
   "id": "71493014-b219-4004-8e87-bf61f36028e7",
   "metadata": {},
   "outputs": [
    {
     "name": "stdout",
     "output_type": "stream",
     "text": [
      "160/160 [==============================] - 0s 2ms/step\n",
      "[[1068    5   26   94]\n",
      " [   4 1217   27    6]\n",
      " [   8   29 1261  111]\n",
      " [  45   16  148 1043]]\n",
      "              precision    recall  f1-score   support\n",
      "\n",
      "           0       0.95      0.90      0.92      1193\n",
      "           1       0.96      0.97      0.97      1254\n",
      "           2       0.86      0.89      0.88      1409\n",
      "           3       0.83      0.83      0.83      1252\n",
      "\n",
      "    accuracy                           0.90      5108\n",
      "   macro avg       0.90      0.90      0.90      5108\n",
      "weighted avg       0.90      0.90      0.90      5108\n",
      "\n"
     ]
    }
   ],
   "source": [
    "# ## 4) 예측하기\n",
    "                  \n",
    "y_pred=model.predict(x_test)\n",
    "y_pred=np.argmax(y_pred, axis=1)\n",
    "\n",
    "# ## 5) 평가하기\n",
    "print(confusion_matrix(y_test,y_pred))\n",
    "print(classification_report(y_test,y_pred))  "
   ]
  },
  {
   "cell_type": "markdown",
   "id": "f2582b0a-ffd1-4723-b016-22bc9ee2be58",
   "metadata": {},
   "source": [
    "## 3) 최적 모델 선정 및 저장"
   ]
  },
  {
   "cell_type": "markdown",
   "id": "9402d27b-7983-4f21-af0f-2565b8d795b5",
   "metadata": {},
   "source": [
    "#### 최적의 모델\n",
    "##### 정확도 기준\n",
    "- Decision Tree: 82%\n",
    "- RandomForest: 93%\n",
    "- XGBoost: 92%\n",
    "- DNN: 90%"
   ]
  },
  {
   "cell_type": "code",
   "execution_count": 93,
   "id": "2c86a1f5-41d5-4488-af59-38037270d5cb",
   "metadata": {},
   "outputs": [
    {
     "data": {
      "text/plain": [
       "['model_rf.joblib']"
      ]
     },
     "execution_count": 93,
     "metadata": {},
     "output_type": "execute_result"
    }
   ],
   "source": [
    "## 모델 저장하기\n",
    "from joblib import dump\n",
    "\n",
    "dump(model_rf, 'model_rf.joblib')"
   ]
  },
  {
   "cell_type": "markdown",
   "id": "cee7bbf1-aae4-4279-ae4d-892bf6eebd4c",
   "metadata": {},
   "source": [
    "## 4) 새로운 증상으로 중증질환 예측하기"
   ]
  },
  {
   "cell_type": "code",
   "execution_count": 95,
   "id": "fcad5243-56ee-407b-8e22-7bdfc74717c5",
   "metadata": {},
   "outputs": [
    {
     "data": {
      "text/plain": [
       "RandomForestClassifier(max_depth=20)"
      ]
     },
     "execution_count": 95,
     "metadata": {},
     "output_type": "execute_result"
    }
   ],
   "source": [
    "model_rf"
   ]
  },
  {
   "cell_type": "code",
   "execution_count": 96,
   "id": "f4d4fcda-662a-44f8-94bb-8667f8bfebd5",
   "metadata": {},
   "outputs": [],
   "source": [
    "new_dispatch = {\n",
    "    \"ID\" : [500001],\n",
    "    \"출동일시\" :['2023-04-18'],\n",
    "    \"이름\" : ['최**'],\n",
    "    \"성별\" : [\"여성\"],\n",
    "    \"나이\" : [35],\n",
    "    \"체온\" : [36.5],\n",
    "    \"수축기 혈압\" : [125],\n",
    "    \"이완기 혈압\" : [85],\n",
    "    \"호흡 곤란\":[0],\n",
    "    \"간헐성 경련\":[0],\n",
    "    \"설사\":[0],\n",
    "    \"기침\":[0],\n",
    "    \"출혈\":[1],\n",
    "    \"통증\":[0],\n",
    "    \"만지면 아프다\":[0],\n",
    "    \"무감각\":[1],\n",
    "    \"마비\":[1],\n",
    "    \"현기증\":[0],\n",
    "    \"졸도\":[1],\n",
    "    \"말이 어눌해졌다\":[0],\n",
    "    \"시력이 흐려짐\":[0],\n",
    "    \"중증질환\" : [\"\"],\n",
    "    \"이송 시간\" : [0]\n",
    "}\n",
    "\n",
    "new_data = pd.DataFrame(new_dispatch)"
   ]
  },
  {
   "cell_type": "code",
   "execution_count": 97,
   "id": "9e0ff769-6928-4555-8194-3346cc8d0f90",
   "metadata": {},
   "outputs": [
    {
     "data": {
      "text/html": [
       "<div>\n",
       "<style scoped>\n",
       "    .dataframe tbody tr th:only-of-type {\n",
       "        vertical-align: middle;\n",
       "    }\n",
       "\n",
       "    .dataframe tbody tr th {\n",
       "        vertical-align: top;\n",
       "    }\n",
       "\n",
       "    .dataframe thead th {\n",
       "        text-align: right;\n",
       "    }\n",
       "</style>\n",
       "<table border=\"1\" class=\"dataframe\">\n",
       "  <thead>\n",
       "    <tr style=\"text-align: right;\">\n",
       "      <th></th>\n",
       "      <th>ID</th>\n",
       "      <th>출동일시</th>\n",
       "      <th>이름</th>\n",
       "      <th>성별</th>\n",
       "      <th>나이</th>\n",
       "      <th>체온</th>\n",
       "      <th>수축기 혈압</th>\n",
       "      <th>이완기 혈압</th>\n",
       "      <th>호흡 곤란</th>\n",
       "      <th>간헐성 경련</th>\n",
       "      <th>...</th>\n",
       "      <th>통증</th>\n",
       "      <th>만지면 아프다</th>\n",
       "      <th>무감각</th>\n",
       "      <th>마비</th>\n",
       "      <th>현기증</th>\n",
       "      <th>졸도</th>\n",
       "      <th>말이 어눌해졌다</th>\n",
       "      <th>시력이 흐려짐</th>\n",
       "      <th>중증질환</th>\n",
       "      <th>이송 시간</th>\n",
       "    </tr>\n",
       "  </thead>\n",
       "  <tbody>\n",
       "    <tr>\n",
       "      <th>0</th>\n",
       "      <td>500001</td>\n",
       "      <td>2023-04-18</td>\n",
       "      <td>최**</td>\n",
       "      <td>여성</td>\n",
       "      <td>35</td>\n",
       "      <td>36.5</td>\n",
       "      <td>125</td>\n",
       "      <td>85</td>\n",
       "      <td>0</td>\n",
       "      <td>0</td>\n",
       "      <td>...</td>\n",
       "      <td>0</td>\n",
       "      <td>0</td>\n",
       "      <td>1</td>\n",
       "      <td>1</td>\n",
       "      <td>0</td>\n",
       "      <td>1</td>\n",
       "      <td>0</td>\n",
       "      <td>0</td>\n",
       "      <td></td>\n",
       "      <td>0</td>\n",
       "    </tr>\n",
       "  </tbody>\n",
       "</table>\n",
       "<p>1 rows × 23 columns</p>\n",
       "</div>"
      ],
      "text/plain": [
       "       ID        출동일시   이름  성별  나이    체온  수축기 혈압  이완기 혈압  호흡 곤란  간헐성 경련  ...  \\\n",
       "0  500001  2023-04-18  최**  여성  35  36.5     125      85      0       0  ...   \n",
       "\n",
       "   통증  만지면 아프다  무감각  마비  현기증  졸도  말이 어눌해졌다  시력이 흐려짐  중증질환  이송 시간  \n",
       "0   0        0    1   1    0   1         0        0            0  \n",
       "\n",
       "[1 rows x 23 columns]"
      ]
     },
     "execution_count": 97,
     "metadata": {},
     "output_type": "execute_result"
    }
   ],
   "source": [
    "new_data"
   ]
  },
  {
   "cell_type": "code",
   "execution_count": 100,
   "id": "9729913b-84c1-462d-8b49-758998dc2149",
   "metadata": {},
   "outputs": [],
   "source": [
    "# 전처리 과정 진행하기 preprocessing 함수 활용\n",
    "\n",
    "new_x, new_y = preprocessing(new_data)"
   ]
  },
  {
   "cell_type": "code",
   "execution_count": 99,
   "id": "189ed6cd-9586-48f1-8169-b4c967e4e97c",
   "metadata": {},
   "outputs": [],
   "source": [
    "# 모델 불러오기\n",
    "\n",
    "from joblib import load\n",
    "\n",
    "model_rf=load('model_rf.joblib')"
   ]
  },
  {
   "cell_type": "code",
   "execution_count": 127,
   "id": "eaf51602-4431-4d09-8207-355e15a97ef7",
   "metadata": {},
   "outputs": [
    {
     "name": "stdout",
     "output_type": "stream",
     "text": [
      "model_rf 결과: 뇌경색\n"
     ]
    },
    {
     "name": "stderr",
     "output_type": "stream",
     "text": [
      "C:\\Users\\User\\anaconda3\\lib\\site-packages\\sklearn\\base.py:443: UserWarning: X has feature names, but RandomForestClassifier was fitted without feature names\n",
      "  warnings.warn(\n"
     ]
    }
   ],
   "source": [
    "# 중증질환 예측하기\n",
    "y_pred=model_rf.predict(new_x)\n",
    "\n",
    "\n",
    "# 중증질환 명칭으로 표시하기\n",
    "\n",
    "sym_list = ['뇌경색', '뇌출혈', '복부손상', '심근경색']\n",
    "if y_pred==0:\n",
    "    print('model_rf 결과: 뇌경색')\n",
    "elif y_pred==1:\n",
    "    print('model_rf 결과: 뇌출혈')\n",
    "elif y_pred==2:\n",
    "    print('model_rf 결과: 복부손상')\n",
    "else:\n",
    "    print('model_rf 결과: 심근경색')"
   ]
  },
  {
   "cell_type": "code",
   "execution_count": 125,
   "id": "6958c01f-3fb4-475c-8d14-55ddc39b7593",
   "metadata": {},
   "outputs": [],
   "source": [
    "# 예측 함수 정의하기\n",
    "# input : 출동 이력 데이터 (new_dispatch, 딕셔너리 형태임)\n",
    "# output : 중증 질환 명칭\n",
    "# 함수 안에는 출동 이력 데이터를 전처리하는 과정이 필요함\n",
    "\n",
    "def predict_disease(new_dispatch):\n",
    "    \n",
    "    sym_list = ['뇌경색', '뇌출혈', '복부손상', '심근경색']\n",
    "    \n",
    "    new_data = pd.DataFrame(new_dispatch)\n",
    "    new_x, new_y = preprocessing(new_data)\n",
    "    \n",
    "    from joblib import load\n",
    "    model_m = load('model_rf.joblib')\n",
    "    \n",
    "    y_pred = model_m.predict(new_x)\n",
    "    \n",
    "    return sym_list[int(y_pred)]"
   ]
  },
  {
   "cell_type": "code",
   "execution_count": 126,
   "id": "63b77824-01b8-45f0-be6e-4bfd8c01bd52",
   "metadata": {},
   "outputs": [
    {
     "name": "stderr",
     "output_type": "stream",
     "text": [
      "C:\\Users\\User\\anaconda3\\lib\\site-packages\\sklearn\\base.py:443: UserWarning: X has feature names, but RandomForestClassifier was fitted without feature names\n",
      "  warnings.warn(\n"
     ]
    },
    {
     "data": {
      "text/plain": [
       "'뇌경색'"
      ]
     },
     "execution_count": 126,
     "metadata": {},
     "output_type": "execute_result"
    }
   ],
   "source": [
    "# new_dispatch dictionary 형태로 전달됨\n",
    "\n",
    "predict_disease(new_dispatch)"
   ]
  }
 ],
 "metadata": {
  "kernelspec": {
   "display_name": "Python 3 (ipykernel)",
   "language": "python",
   "name": "python3"
  },
  "language_info": {
   "codemirror_mode": {
    "name": "ipython",
    "version": 3
   },
   "file_extension": ".py",
   "mimetype": "text/x-python",
   "name": "python",
   "nbconvert_exporter": "python",
   "pygments_lexer": "ipython3",
   "version": "3.9.12"
  },
  "vscode": {
   "interpreter": {
    "hash": "f08154012ddadd8e950e6e9e035c7a7b32c136e7647e9b7c77e02eb723a8bedb"
   }
  }
 },
 "nbformat": 4,
 "nbformat_minor": 5
}
